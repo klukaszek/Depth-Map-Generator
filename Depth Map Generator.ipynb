{
 "cells": [
  {
   "attachments": {},
   "cell_type": "markdown",
   "metadata": {},
   "source": [
    "# Step 0: Install dependencies"
   ]
  },
  {
   "cell_type": "code",
   "execution_count": 6,
   "metadata": {},
   "outputs": [
    {
     "name": "stdout",
     "output_type": "stream",
     "text": [
      "Requirement already satisfied: torch in c:\\users\\kiric\\appdata\\local\\programs\\python\\python37\\lib\\site-packages (1.13.1)\n",
      "Requirement already satisfied: timm in c:\\users\\kiric\\appdata\\local\\programs\\python\\python37\\lib\\site-packages (0.6.12)\n",
      "Requirement already satisfied: opencv-python in c:\\users\\kiric\\appdata\\local\\programs\\python\\python37\\lib\\site-packages (4.7.0.68)\n",
      "Requirement already satisfied: matplotlib in c:\\users\\kiric\\appdata\\local\\programs\\python\\python37\\lib\\site-packages (3.5.3)\n",
      "Requirement already satisfied: typing-extensions in c:\\users\\kiric\\appdata\\local\\programs\\python\\python37\\lib\\site-packages (from torch) (4.4.0)\n",
      "Requirement already satisfied: pyyaml in c:\\users\\kiric\\appdata\\local\\programs\\python\\python37\\lib\\site-packages (from timm) (6.0)\n",
      "Requirement already satisfied: huggingface-hub in c:\\users\\kiric\\appdata\\local\\programs\\python\\python37\\lib\\site-packages (from timm) (0.12.0)\n",
      "Requirement already satisfied: torchvision in c:\\users\\kiric\\appdata\\local\\programs\\python\\python37\\lib\\site-packages (from timm) (0.14.1)\n",
      "Requirement already satisfied: numpy>=1.17.0 in c:\\users\\kiric\\appdata\\local\\programs\\python\\python37\\lib\\site-packages (from opencv-python) (1.21.6)\n",
      "Requirement already satisfied: python-dateutil>=2.7 in c:\\users\\kiric\\appdata\\roaming\\python\\python37\\site-packages (from matplotlib) (2.8.2)\n",
      "Requirement already satisfied: pillow>=6.2.0 in c:\\users\\kiric\\appdata\\local\\programs\\python\\python37\\lib\\site-packages (from matplotlib) (9.3.0)\n",
      "Requirement already satisfied: packaging>=20.0 in c:\\users\\kiric\\appdata\\local\\programs\\python\\python37\\lib\\site-packages (from matplotlib) (21.3)\n",
      "Requirement already satisfied: kiwisolver>=1.0.1 in c:\\users\\kiric\\appdata\\local\\programs\\python\\python37\\lib\\site-packages (from matplotlib) (1.4.4)\n",
      "Requirement already satisfied: pyparsing>=2.2.1 in c:\\users\\kiric\\appdata\\local\\programs\\python\\python37\\lib\\site-packages (from matplotlib) (3.0.9)\n",
      "Requirement already satisfied: fonttools>=4.22.0 in c:\\users\\kiric\\appdata\\local\\programs\\python\\python37\\lib\\site-packages (from matplotlib) (4.38.0)\n",
      "Requirement already satisfied: cycler>=0.10 in c:\\users\\kiric\\appdata\\local\\programs\\python\\python37\\lib\\site-packages (from matplotlib) (0.11.0)\n",
      "Requirement already satisfied: six>=1.5 in c:\\users\\kiric\\appdata\\local\\programs\\python\\python37\\lib\\site-packages (from python-dateutil>=2.7->matplotlib) (1.16.0)\n",
      "Requirement already satisfied: tqdm>=4.42.1 in c:\\users\\kiric\\appdata\\local\\programs\\python\\python37\\lib\\site-packages (from huggingface-hub->timm) (4.64.1)\n",
      "Requirement already satisfied: importlib-metadata in c:\\users\\kiric\\appdata\\local\\programs\\python\\python37\\lib\\site-packages (from huggingface-hub->timm) (5.0.0)\n",
      "Requirement already satisfied: filelock in c:\\users\\kiric\\appdata\\local\\programs\\python\\python37\\lib\\site-packages (from huggingface-hub->timm) (3.8.0)\n",
      "Requirement already satisfied: requests in c:\\users\\kiric\\appdata\\local\\programs\\python\\python37\\lib\\site-packages (from huggingface-hub->timm) (2.28.1)\n",
      "Requirement already satisfied: colorama in c:\\users\\kiric\\appdata\\local\\programs\\python\\python37\\lib\\site-packages (from tqdm>=4.42.1->huggingface-hub->timm) (0.4.6)\n",
      "Requirement already satisfied: zipp>=0.5 in c:\\users\\kiric\\appdata\\local\\programs\\python\\python37\\lib\\site-packages (from importlib-metadata->huggingface-hub->timm) (3.10.0)\n",
      "Requirement already satisfied: certifi>=2017.4.17 in c:\\users\\kiric\\appdata\\local\\programs\\python\\python37\\lib\\site-packages (from requests->huggingface-hub->timm) (2022.9.24)\n",
      "Requirement already satisfied: urllib3<1.27,>=1.21.1 in c:\\users\\kiric\\appdata\\local\\programs\\python\\python37\\lib\\site-packages (from requests->huggingface-hub->timm) (1.26.12)\n",
      "Requirement already satisfied: idna<4,>=2.5 in c:\\users\\kiric\\appdata\\local\\programs\\python\\python37\\lib\\site-packages (from requests->huggingface-hub->timm) (3.4)\n",
      "Requirement already satisfied: charset-normalizer<3,>=2 in c:\\users\\kiric\\appdata\\local\\programs\\python\\python37\\lib\\site-packages (from requests->huggingface-hub->timm) (2.1.1)\n",
      "Note: you may need to restart the kernel to use updated packages.\n"
     ]
    },
    {
     "name": "stderr",
     "output_type": "stream",
     "text": [
      "\n",
      "[notice] A new release of pip available: 22.3.1 -> 23.0\n",
      "[notice] To update, run: python.exe -m pip install --upgrade pip\n"
     ]
    }
   ],
   "source": [
    "%pip install torch timm opencv-python matplotlib"
   ]
  },
  {
   "attachments": {},
   "cell_type": "markdown",
   "metadata": {},
   "source": [
    "# Step 1: Import Dependencies"
   ]
  },
  {
   "cell_type": "code",
   "execution_count": 7,
   "metadata": {},
   "outputs": [],
   "source": [
    "import cv2 as cv\n",
    "import time\n",
    "import torch\n",
    "import timm\n",
    "import numpy as np"
   ]
  },
  {
   "attachments": {},
   "cell_type": "markdown",
   "metadata": {},
   "source": [
    "# Step 2: Initialize the model using PyTorch"
   ]
  },
  {
   "attachments": {},
   "cell_type": "markdown",
   "metadata": {},
   "source": [
    "Select your model type by uncommenting a line from below labeled 'model_type'."
   ]
  },
  {
   "cell_type": "code",
   "execution_count": 8,
   "metadata": {},
   "outputs": [
    {
     "name": "stderr",
     "output_type": "stream",
     "text": [
      "Using cache found in C:\\Users\\kiric/.cache\\torch\\hub\\intel-isl_midas_master\n",
      "Using cache found in C:\\Users\\kiric/.cache\\torch\\hub\\intel-isl_MiDaS_master\n"
     ]
    }
   ],
   "source": [
    "# Select one of the following models:\n",
    "#model_type = \"DPT_Large\" # Highest quality model\n",
    "#model_type = \"DPT_Hybrid\" # Average quality model\n",
    "model_type = \"MiDaS_small\" # Lowest quality model\n",
    "\n",
    "#Download the model\n",
    "midas = torch.hub.load('intel-isl/midas', model_type, pretrained=True)\n",
    "\n",
    "#Load the model onto a device\n",
    "if torch.cuda.is_available():\n",
    "    device = torch.device(\"cuda\")\n",
    "else:\n",
    "    device = torch.device(\"cpu\")\n",
    "\n",
    "midas.to(device)\n",
    "midas.eval()\n",
    "\n",
    "#Download transformations\n",
    "midas_transform = torch.hub.load('intel-isl/MiDaS', 'transforms')\n",
    "\n",
    "if model_type == \"DPT_Large\" or model_type == \"DPT_Hybrid\":\n",
    "    transform = midas_transform.dpt_transform\n",
    "else:\n",
    "    transform = midas_transform.small_transform"
   ]
  },
  {
   "attachments": {},
   "cell_type": "markdown",
   "metadata": {},
   "source": [
    "# Step 3: Create Depth Map"
   ]
  },
  {
   "cell_type": "code",
   "execution_count": 9,
   "metadata": {},
   "outputs": [],
   "source": [
    "def create_depth_map(frame):\n",
    "    # Convert the image to RGB format for displaying using pyplot\n",
    "    frame = cv.cvtColor(frame, cv.COLOR_BGR2RGB)\n",
    "\n",
    "    # Apply transformations to frame\n",
    "    input_frame_batch = transform(frame).to(device)\n",
    "\n",
    "    # Get predictions from model\n",
    "    with torch.no_grad():\n",
    "        prediction = midas(input_frame_batch)\n",
    "        prediction = torch.nn.functional.interpolate(prediction.unsqueeze(1), size=frame.shape[:2], mode='bicubic', align_corners=False).squeeze()\n",
    "\n",
    "    # Get depth map as numpy array from the gpu to the cpu\n",
    "    depth_map = prediction.cpu().numpy()\n",
    "\n",
    "    #Normalize numpy array into 0-1 range\n",
    "    depth_map = cv.normalize(depth_map, None, 0, 1, norm_type=cv.NORM_MINMAX, dtype=cv.CV_32F)\n",
    "\n",
    "    depth_map = (depth_map * 255).astype(np.uint8)\n",
    "    depth_map = cv.applyColorMap(depth_map, cv.COLORMAP_JET)\n",
    "\n",
    "    return depth_map"
   ]
  },
  {
   "attachments": {},
   "cell_type": "markdown",
   "metadata": {},
   "source": [
    "# Step 4: Choose Input Solution For MiDaS model\n",
    "\n",
    "You can choose images, video, or from a camera connected to your computer."
   ]
  },
  {
   "attachments": {},
   "cell_type": "markdown",
   "metadata": {},
   "source": [
    "### Webcam Solution"
   ]
  },
  {
   "cell_type": "code",
   "execution_count": 10,
   "metadata": {},
   "outputs": [],
   "source": [
    "capture = cv.VideoCapture(0)\n",
    "\n",
    "while capture.isOpened():\n",
    "\n",
    "    # Capture frame\n",
    "    status, frame = capture.read()\n",
    "\n",
    "    #Get start time of frame\n",
    "    start = time.time()\n",
    "    \n",
    "    # Get depth map\n",
    "    depth_map = create_depth_map(frame)\n",
    "\n",
    "    #Get end time of frame\n",
    "    end = time.time()\n",
    "\n",
    "    # Get FPS to display\n",
    "    total_time = end - start\n",
    "    fps = 1 / total_time\n",
    "\n",
    "    # Display the webcam frame\n",
    "    cv.putText(frame, \"Press 'Spacebar' to quit\", (10, 30), cv.FONT_HERSHEY_SIMPLEX, 1, (0, 255, 0))\n",
    "    cv.putText(frame, f'FPS: {int(fps)}', (20,70), cv.FONT_HERSHEY_SIMPLEX, 1, (0, 255, 0))\n",
    "    cv.imshow('Webcam', frame)\n",
    "\n",
    "    #Display the depth map for the webcam frame\n",
    "    cv.putText(depth_map, \"Press 'Spacebar' to quit\", (10, 30), cv.FONT_HERSHEY_SIMPLEX, 1, (0, 255, 0))\n",
    "    cv.putText(depth_map, f'FPS: {int(fps)}', (20,70), cv.FONT_HERSHEY_SIMPLEX, 1, (0, 255, 0))\n",
    "    cv.imshow('Depth Map', depth_map)\n",
    "\n",
    "    # Close the windows on Spacebar\n",
    "    if(cv.waitKey(5) & 0xFF == ord(' ')):\n",
    "        break\n",
    "\n",
    "# Release device and destroy all windows\n",
    "capture.release()\n",
    "cv.destroyAllWindows()\n"
   ]
  }
 ],
 "metadata": {
  "kernelspec": {
   "display_name": "Python 3",
   "language": "python",
   "name": "python3"
  },
  "language_info": {
   "codemirror_mode": {
    "name": "ipython",
    "version": 3
   },
   "file_extension": ".py",
   "mimetype": "text/x-python",
   "name": "python",
   "nbconvert_exporter": "python",
   "pygments_lexer": "ipython3",
   "version": "3.7.3"
  },
  "orig_nbformat": 4,
  "vscode": {
   "interpreter": {
    "hash": "0bcae0c37f40a3d8c10515eeb3adba63de3ea1c9185115b71dc9eb5735684453"
   }
  }
 },
 "nbformat": 4,
 "nbformat_minor": 2
}
